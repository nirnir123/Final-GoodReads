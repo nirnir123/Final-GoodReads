{
 "cells": [
  {
   "cell_type": "code",
   "execution_count": 1,
   "id": "fa77da36",
   "metadata": {},
   "outputs": [],
   "source": [
    "import pandas as pd\n",
    "from sklearn import metrics\n",
    "from matplotlib import pyplot as plt\n",
    "from sklearn.model_selection import train_test_split\n",
    "from sklearn.linear_model import LinearRegression\n",
    "import numpy as np\n",
    "import matplotlib as mpl\n",
    "%matplotlib inline\n",
    "import warnings\n",
    "warnings.filterwarnings(\"ignore\")\n",
    "import seaborn as sns"
   ]
  },
  {
   "cell_type": "code",
   "execution_count": 2,
   "id": "bcd0cb9c",
   "metadata": {},
   "outputs": [],
   "source": [
    "df=pd.read_csv('After_text_analysis.csv')\n"
   ]
  },
  {
   "cell_type": "code",
   "execution_count": 3,
   "id": "319cf41e",
   "metadata": {},
   "outputs": [
    {
     "name": "stdout",
     "output_type": "stream",
     "text": [
      "<class 'pandas.core.frame.DataFrame'>\n",
      "RangeIndex: 3371 entries, 0 to 3370\n",
      "Data columns (total 44 columns):\n",
      " #   Column              Non-Null Count  Dtype  \n",
      "---  ------              --------------  -----  \n",
      " 0   book_name           3371 non-null   object \n",
      " 1   book_series         3371 non-null   object \n",
      " 2   book_series_number  3371 non-null   float64\n",
      " 3   authorName          3371 non-null   object \n",
      " 4   description         3371 non-null   object \n",
      " 5   pages               3371 non-null   float64\n",
      " 6   rating              3371 non-null   float64\n",
      " 7   rating_Count        3371 non-null   float64\n",
      " 8   reviews_Count       3371 non-null   float64\n",
      " 9   ISBN13              3371 non-null   float64\n",
      " 10  published_year      3371 non-null   float64\n",
      " 11  published_month     3371 non-null   float64\n",
      " 12  Rating5             3371 non-null   float64\n",
      " 13  Rating4             3371 non-null   float64\n",
      " 14  Rating3             3371 non-null   float64\n",
      " 15  Rating2             3371 non-null   float64\n",
      " 16  Rating1             3371 non-null   float64\n",
      " 17  Rating5_Percent     3371 non-null   float64\n",
      " 18  Rating4_Percent     3371 non-null   float64\n",
      " 19  Rating3_Percent     3371 non-null   float64\n",
      " 20  Rating2_Percent     3371 non-null   float64\n",
      " 21  Rating1_Percent     3371 non-null   float64\n",
      " 22  people_liked        3371 non-null   float64\n",
      " 23  dark                3371 non-null   int64  \n",
      " 24  even                3371 non-null   int64  \n",
      " 25  ever                3371 non-null   int64  \n",
      " 26  family              3371 non-null   int64  \n",
      " 27  find                3371 non-null   int64  \n",
      " 28  first               3371 non-null   int64  \n",
      " 29  life                3371 non-null   int64  \n",
      " 30  love                3371 non-null   int64  \n",
      " 31  magic               3371 non-null   int64  \n",
      " 32  man                 3371 non-null   int64  \n",
      " 33  must                3371 non-null   int64  \n",
      " 34  never               3371 non-null   int64  \n",
      " 35  new                 3371 non-null   int64  \n",
      " 36  old                 3371 non-null   int64  \n",
      " 37  power               3371 non-null   int64  \n",
      " 38  time                3371 non-null   int64  \n",
      " 39  war                 3371 non-null   int64  \n",
      " 40  world               3371 non-null   int64  \n",
      " 41  years               3371 non-null   int64  \n",
      " 42  young               3371 non-null   int64  \n",
      " 43  popular_words       3371 non-null   int64  \n",
      "dtypes: float64(19), int64(21), object(4)\n",
      "memory usage: 1.1+ MB\n"
     ]
    }
   ],
   "source": [
    "df.info()"
   ]
  },
  {
   "cell_type": "code",
   "execution_count": 4,
   "id": "5822de3a",
   "metadata": {},
   "outputs": [
    {
     "name": "stdout",
     "output_type": "stream",
     "text": [
      "<class 'pandas.core.frame.DataFrame'>\n",
      "RangeIndex: 3371 entries, 0 to 3370\n",
      "Data columns (total 40 columns):\n",
      " #   Column              Non-Null Count  Dtype  \n",
      "---  ------              --------------  -----  \n",
      " 0   book_series_number  3371 non-null   float64\n",
      " 1   pages               3371 non-null   float64\n",
      " 2   rating              3371 non-null   float64\n",
      " 3   rating_Count        3371 non-null   float64\n",
      " 4   reviews_Count       3371 non-null   float64\n",
      " 5   ISBN13              3371 non-null   float64\n",
      " 6   published_year      3371 non-null   float64\n",
      " 7   published_month     3371 non-null   float64\n",
      " 8   Rating5             3371 non-null   float64\n",
      " 9   Rating4             3371 non-null   float64\n",
      " 10  Rating3             3371 non-null   float64\n",
      " 11  Rating2             3371 non-null   float64\n",
      " 12  Rating1             3371 non-null   float64\n",
      " 13  Rating5_Percent     3371 non-null   float64\n",
      " 14  Rating4_Percent     3371 non-null   float64\n",
      " 15  Rating3_Percent     3371 non-null   float64\n",
      " 16  Rating2_Percent     3371 non-null   float64\n",
      " 17  Rating1_Percent     3371 non-null   float64\n",
      " 18  people_liked        3371 non-null   float64\n",
      " 19  dark                3371 non-null   int64  \n",
      " 20  even                3371 non-null   int64  \n",
      " 21  ever                3371 non-null   int64  \n",
      " 22  family              3371 non-null   int64  \n",
      " 23  find                3371 non-null   int64  \n",
      " 24  first               3371 non-null   int64  \n",
      " 25  life                3371 non-null   int64  \n",
      " 26  love                3371 non-null   int64  \n",
      " 27  magic               3371 non-null   int64  \n",
      " 28  man                 3371 non-null   int64  \n",
      " 29  must                3371 non-null   int64  \n",
      " 30  never               3371 non-null   int64  \n",
      " 31  new                 3371 non-null   int64  \n",
      " 32  old                 3371 non-null   int64  \n",
      " 33  power               3371 non-null   int64  \n",
      " 34  time                3371 non-null   int64  \n",
      " 35  war                 3371 non-null   int64  \n",
      " 36  world               3371 non-null   int64  \n",
      " 37  years               3371 non-null   int64  \n",
      " 38  young               3371 non-null   int64  \n",
      " 39  popular_words       3371 non-null   int64  \n",
      "dtypes: float64(19), int64(21)\n",
      "memory usage: 1.0 MB\n"
     ]
    }
   ],
   "source": [
    "df00= df.drop(columns=['book_name', 'book_series',\"authorName\", 'description']).copy()\n",
    "df00.info()"
   ]
  },
  {
   "cell_type": "code",
   "execution_count": 5,
   "id": "982c1fde",
   "metadata": {},
   "outputs": [],
   "source": [
    "df1=(df00-df00.mean())/df00.std()"
   ]
  },
  {
   "cell_type": "code",
   "execution_count": 6,
   "id": "cf0d79be",
   "metadata": {
    "scrolled": true
   },
   "outputs": [
    {
     "name": "stdout",
     "output_type": "stream",
     "text": [
      "1.0\n"
     ]
    }
   ],
   "source": [
    "# We want to predict the 'rating_Count' variable, so we split the dataset to X and y:\n",
    "\n",
    "\n",
    "X1 = df1.drop('rating_Count',axis=1)\n",
    "y1 = df1['rating_Count']\n",
    "\n",
    "xtrain1, xtest1, ytrain1, ytest1 = train_test_split(X1, y1, test_size=0.2,random_state=0)\n",
    "\n",
    "reg = LinearRegression()\n",
    "reg.fit(xtrain1, ytrain1)\n",
    "acc1 = reg.score(xtest1, ytest1)\n",
    "\n",
    "print(acc1)"
   ]
  },
  {
   "cell_type": "code",
   "execution_count": 7,
   "id": "aad3896a",
   "metadata": {},
   "outputs": [],
   "source": [
    "col2=['Rating5', 'Rating4','Rating3', 'Rating2', 'Rating1']"
   ]
  },
  {
   "cell_type": "code",
   "execution_count": 8,
   "id": "adcd4706",
   "metadata": {},
   "outputs": [],
   "source": [
    "df2= df1.drop(columns=['Rating5', 'Rating4','Rating3', 'Rating2', 'Rating1']).copy()\n"
   ]
  },
  {
   "cell_type": "markdown",
   "id": "59ddfbf3",
   "metadata": {},
   "source": [
    "## Rating5', 'Rating4','Rating3', 'Rating2', 'Rating1'  are in insync with rating_Count make it hard for the LinearRegression to work with them\n",
    "\n",
    "## so I'm removing them\n",
    "### and puting back one at the time\n"
   ]
  },
  {
   "cell_type": "code",
   "execution_count": 9,
   "id": "eae324f7",
   "metadata": {},
   "outputs": [
    {
     "name": "stdout",
     "output_type": "stream",
     "text": [
      "LinearRegression with column  Rating5   0.9578713507095706\n",
      "LinearRegression with column  Rating4   0.9862868603532567\n",
      "LinearRegression with column  Rating3   0.9256968739947381\n",
      "LinearRegression with column  Rating2   0.8046080424149872\n",
      "LinearRegression with column  Rating1   0.7440811922769541\n"
     ]
    }
   ],
   "source": [
    "\n",
    "for col_with in col2:\n",
    "    df2[col_with]=df1[col_with]\n",
    "\n",
    "    X2 = df2.drop(['rating_Count'], axis=1)\n",
    "    y2 = df2['rating_Count']\n",
    "\n",
    "    xtrain2, xtest2, ytrain2, ytest2 = train_test_split(X2, y2, random_state=0)\n",
    "\n",
    "    reg = LinearRegression() \n",
    "    reg.fit(xtrain2, ytrain2)\n",
    "    acc2 = reg.score(xtest2, ytest2)\n",
    "    \n",
    "    print(\"LinearRegression with column \",col_with,\" \",acc2)\n",
    "    \n",
    "    df2= df2.drop(columns=[col_with])\n",
    "\n",
    "    "
   ]
  },
  {
   "cell_type": "markdown",
   "id": "2c9c8271",
   "metadata": {},
   "source": [
    "## with out all of this columns=['Rating5', 'Rating4','Rating3', 'Rating2', 'Rating1']\n"
   ]
  },
  {
   "cell_type": "code",
   "execution_count": 10,
   "id": "10626c91",
   "metadata": {},
   "outputs": [
    {
     "name": "stdout",
     "output_type": "stream",
     "text": [
      "0.5524810394295633\n"
     ]
    }
   ],
   "source": [
    "X3 = df2.drop('rating_Count',axis=1)\n",
    "y3 = df2['rating_Count']\n",
    "\n",
    "xtrain3, xtest3, ytrain3, ytest3 = train_test_split(X3, y3, test_size=0.2,random_state=0)\n",
    "\n",
    "reg = LinearRegression()\n",
    "reg.fit(xtrain3, ytrain3)\n",
    "acc3 = reg.score(xtest3, ytest3)\n",
    "\n",
    "print(acc3)"
   ]
  },
  {
   "cell_type": "markdown",
   "id": "efbdcbaf",
   "metadata": {},
   "source": [
    "### let's drop  'reviews_Count' and see how the rest of Details work it out\n"
   ]
  },
  {
   "cell_type": "code",
   "execution_count": 11,
   "id": "09b36254",
   "metadata": {},
   "outputs": [
    {
     "name": "stdout",
     "output_type": "stream",
     "text": [
      "0.06069654278468173\n"
     ]
    }
   ],
   "source": [
    "\n",
    "df3= df2.drop(columns=['reviews_Count']).copy()\n",
    "\n",
    "X4 = df3.drop('rating_Count',axis=1)\n",
    "y4 = df3['rating_Count']\n",
    "\n",
    "xtrain4, xtest4, ytrain4, ytest4 = train_test_split(X4, y4, test_size=0.2,random_state=0)\n",
    "\n",
    "reg = LinearRegression()\n",
    "reg.fit(xtrain4, ytrain4)\n",
    "acc4 = reg.score(xtest4, ytest4)\n",
    "\n",
    "print(acc4)\n"
   ]
  },
  {
   "cell_type": "code",
   "execution_count": null,
   "id": "04e9c411",
   "metadata": {},
   "outputs": [],
   "source": []
  },
  {
   "cell_type": "markdown",
   "id": "189c0106",
   "metadata": {},
   "source": [
    "### it is all seating on this 6 columns\n",
    "\n",
    "and the rest of the data doesn't give much useful information\n",
    "\n",
    "## but I'll keep 'reviews_Count' because it doesn't directly influencing 'rating_Count'"
   ]
  },
  {
   "cell_type": "code",
   "execution_count": null,
   "id": "2ca41a9b",
   "metadata": {},
   "outputs": [],
   "source": []
  },
  {
   "cell_type": "code",
   "execution_count": 12,
   "id": "d48d4cdc",
   "metadata": {},
   "outputs": [
    {
     "name": "stdout",
     "output_type": "stream",
     "text": [
      "MSE: 0.4738494074208035\n",
      "R^2: 0.5524810394295633\n"
     ]
    }
   ],
   "source": [
    "reg2= LinearRegression()\n",
    "reg2.fit(xtrain3, ytrain3)\n",
    "\n",
    "y_pred3 = reg2.predict(xtest3)\n",
    "\n",
    "print('MSE:', metrics.mean_squared_error(ytest3, y_pred3))\n",
    "print('R^2:', metrics.r2_score(ytest3, y_pred3))\n",
    "\n"
   ]
  },
  {
   "cell_type": "markdown",
   "id": "2fa262c4",
   "metadata": {},
   "source": [
    "## let's try puting them back all together "
   ]
  },
  {
   "cell_type": "code",
   "execution_count": 13,
   "id": "20fa1f95",
   "metadata": {},
   "outputs": [
    {
     "name": "stdout",
     "output_type": "stream",
     "text": [
      "MSE: 1.151964133430775e-30\n",
      "R^2: 1.0\n"
     ]
    }
   ],
   "source": [
    "reg1 = LinearRegression()\n",
    "reg1.fit(xtrain1, ytrain1)\n",
    "\n",
    "y_pred1 = reg1.predict(xtest1)\n",
    "\n",
    "print('MSE:', metrics.mean_squared_error(ytest1, y_pred1))\n",
    "print('R^2:', metrics.r2_score(ytest1, y_pred1))\n",
    "\n",
    "# e-30"
   ]
  },
  {
   "cell_type": "markdown",
   "id": "a2d8a640",
   "metadata": {},
   "source": [
    "# let's see how each variable affects our model\n",
    "\n",
    "##  with out all of this columns=['Rating5', 'Rating4','Rating3', 'Rating2', 'Rating1']  \n"
   ]
  },
  {
   "cell_type": "code",
   "execution_count": 14,
   "id": "61bc3bb7",
   "metadata": {},
   "outputs": [
    {
     "name": "stdout",
     "output_type": "stream",
     "text": [
      "book_series_number : 0.8470059200363921\n",
      "pages : 0.5405377325253498\n",
      "rating : 0.41269708133657734\n",
      "reviews_Count : 0.3850151099802399\n",
      "ISBN13 : 0.3256240930204899\n",
      "published_year : 0.30103817272837974\n",
      "published_month : 0.20225808467017992\n",
      "Rating5_Percent : 0.19963172463622988\n",
      "Rating4_Percent : 0.10114831961819656\n",
      "Rating3_Percent : 0.08382497552918051\n",
      "Rating2_Percent : 0.03968149796058463\n",
      "Rating1_Percent : 0.027557146242365504\n",
      "people_liked : 0.022144491192560185\n",
      "dark : 0.020709192410578097\n",
      "even : 0.020318434936215116\n",
      "ever : 0.019534661148144422\n",
      "family : 0.019448589776703572\n",
      "find : 0.019419788493733433\n",
      "first : 0.018179333023229473\n",
      "life : 0.01678042285820215\n",
      "love : 0.015683430047178114\n",
      "magic : 0.012167687844466828\n",
      "man : 0.011961908946766676\n",
      "must : 0.011816502674177016\n",
      "never : 0.010188781959640491\n",
      "new : 0.0063507110155788665\n",
      "old : 0.006343911374711802\n",
      "power : 0.0059923804270077844\n",
      "time : 0.003582446617848536\n",
      "war : 0.0034926681723232663\n",
      "world : 0.0025940850757461484\n",
      "years : 0.001247027022814455\n",
      "young : 0.001110401534465359\n",
      "popular_words : 0.00042205529905146345\n"
     ]
    }
   ],
   "source": [
    "d = dict(zip(list(X2.columns), list(sorted(abs(reg2.coef_), reverse=True))))\n",
    "\n",
    "for i in d:\n",
    "    print(i, ':', d[i])"
   ]
  },
  {
   "cell_type": "markdown",
   "id": "b85fdeaa",
   "metadata": {},
   "source": [
    "## all together "
   ]
  },
  {
   "cell_type": "code",
   "execution_count": 15,
   "id": "f616f18b",
   "metadata": {},
   "outputs": [
    {
     "name": "stdout",
     "output_type": "stream",
     "text": [
      "book_series_number : 0.442153530195218\n",
      "pages : 0.35113757510260035\n",
      "rating : 0.19160496900195698\n",
      "reviews_Count : 0.0570859549049922\n",
      "ISBN13 : 0.026523850740756978\n",
      "published_year : 6.771852659612962e-16\n",
      "published_month : 6.574318818494884e-16\n",
      "Rating5 : 4.2749780529277256e-16\n",
      "Rating4 : 3.507972956608826e-16\n",
      "Rating3 : 2.990378703442947e-16\n",
      "Rating2 : 2.274449249976675e-16\n",
      "Rating1 : 1.543593167349371e-16\n",
      "Rating5_Percent : 1.1104950242742107e-16\n",
      "Rating4_Percent : 1.0794583278605071e-16\n",
      "Rating3_Percent : 1.0118444575878267e-16\n",
      "Rating2_Percent : 1.0100434387963994e-16\n",
      "Rating1_Percent : 9.54391863021896e-17\n",
      "people_liked : 8.167306152017806e-17\n",
      "dark : 7.235018150338231e-17\n",
      "even : 7.076143117232401e-17\n",
      "ever : 7.037641494716859e-17\n",
      "family : 6.334913447615559e-17\n",
      "find : 6.285503988776025e-17\n",
      "first : 6.054076213571042e-17\n",
      "life : 5.802654532955118e-17\n",
      "love : 5.375223062342385e-17\n",
      "magic : 5.275870251518873e-17\n",
      "man : 4.521564003684459e-17\n",
      "must : 3.603765217763047e-17\n",
      "never : 3.2796759130609865e-17\n",
      "new : 2.945820537591039e-17\n",
      "old : 2.774982116630311e-17\n",
      "power : 2.7217792819250275e-17\n",
      "time : 2.4854982790208608e-17\n",
      "war : 1.6222359947608763e-17\n",
      "world : 1.5746759589622593e-17\n",
      "years : 1.5719453996843624e-17\n",
      "young : 1.4612920199261023e-17\n",
      "popular_words : 2.6966882727831458e-18\n"
     ]
    }
   ],
   "source": [
    "d = dict(zip(list(X1.columns), list(sorted(abs(reg1.coef_), reverse=True))))\n",
    "\n",
    "for i in d:\n",
    "    print(i, ':', d[i])"
   ]
  },
  {
   "cell_type": "markdown",
   "id": "3943eb54",
   "metadata": {},
   "source": [
    "##  with out all of this columns=['Rating5', 'Rating4','Rating3', 'Rating2', 'Rating1']  "
   ]
  },
  {
   "cell_type": "code",
   "execution_count": 16,
   "id": "dfa9f1c0",
   "metadata": {},
   "outputs": [
    {
     "data": {
      "image/png": "[encoded data removed]",
      "text/plain": [
       "<Figure size 1080x720 with 1 Axes>"
      ]
     },
     "metadata": {
      "needs_background": "light"
     },
     "output_type": "display_data"
    }
   ],
   "source": [
    "plt.figure(figsize=(15,10))\n",
    "plt.scatter(ytest3, y_pred3, c='crimson')\n",
    "p1 = max(max(y_pred3), max(ytest3))\n",
    "p2 = min(min(y_pred3), min(ytest3))\n",
    "plt.plot([p1, p2], [p1, p2], 'g-')\n",
    "plt.xlabel('True Values', fontsize=15)\n",
    "plt.ylabel('Predictions', fontsize=15)\n",
    "plt.axis('equal')\n",
    "plt.show()"
   ]
  },
  {
   "cell_type": "markdown",
   "id": "be7c2c3c",
   "metadata": {},
   "source": [
    "## all together "
   ]
  },
  {
   "cell_type": "code",
   "execution_count": 17,
   "id": "1ddae719",
   "metadata": {},
   "outputs": [
    {
     "data": {
      "image/png": "[encoded data removed]",
      "text/plain": [
       "<Figure size 1080x720 with 1 Axes>"
      ]
     },
     "metadata": {
      "needs_background": "light"
     },
     "output_type": "display_data"
    }
   ],
   "source": [
    "plt.figure(figsize=(15,10))\n",
    "plt.scatter(ytest1, y_pred1, c='crimson')\n",
    "p1 = max(max(y_pred1), max(ytest1))\n",
    "p2 = min(min(y_pred1), min(ytest1))\n",
    "plt.plot([p1, p2], [p1, p2], 'g-')\n",
    "plt.xlabel('True Values', fontsize=15)\n",
    "plt.ylabel('Predictions', fontsize=15)\n",
    "plt.axis('equal')\n",
    "plt.show()"
   ]
  },
  {
   "cell_type": "markdown",
   "id": "77e1564b",
   "metadata": {},
   "source": [
    "# we can see if we will put them all together the dots from a straight "
   ]
  },
  {
   "cell_type": "code",
   "execution_count": null,
   "id": "556dc951",
   "metadata": {},
   "outputs": [],
   "source": []
  },
  {
   "cell_type": "code",
   "execution_count": null,
   "id": "8a149f72",
   "metadata": {},
   "outputs": [],
   "source": []
  },
  {
   "cell_type": "code",
   "execution_count": null,
   "id": "9336bdd3",
   "metadata": {},
   "outputs": [],
   "source": []
  },
  {
   "cell_type": "code",
   "execution_count": null,
   "id": "de79ff2a",
   "metadata": {},
   "outputs": [],
   "source": []
  },
  {
   "cell_type": "code",
   "execution_count": null,
   "id": "719ae641",
   "metadata": {},
   "outputs": [],
   "source": []
  },
  {
   "cell_type": "code",
   "execution_count": null,
   "id": "f04d063b",
   "metadata": {},
   "outputs": [],
   "source": []
  },
  {
   "cell_type": "code",
   "execution_count": null,
   "id": "d135fa3c",
   "metadata": {},
   "outputs": [],
   "source": []
  },
  {
   "cell_type": "code",
   "execution_count": null,
   "id": "846bc6e5",
   "metadata": {},
   "outputs": [],
   "source": []
  },
  {
   "cell_type": "code",
   "execution_count": null,
   "id": "26cecde8",
   "metadata": {},
   "outputs": [],
   "source": []
  }
 ],
 "metadata": {
  "kernelspec": {
   "display_name": "Python 3",
   "language": "python",
   "name": "python3"
  },
  "language_info": {
   "codemirror_mode": {
    "name": "ipython",
    "version": 3
   },
   "file_extension": ".py",
   "mimetype": "text/x-python",
   "name": "python",
   "nbconvert_exporter": "python",
   "pygments_lexer": "ipython3",
   "version": "3.8.8"
  }
 },
 "nbformat": 4,
 "nbformat_minor": 5
}
